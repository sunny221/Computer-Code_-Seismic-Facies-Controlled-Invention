{
 "cells": [
  {
   "cell_type": "code",
   "execution_count": 1,
   "id": "825cd68b-57e0-4be4-93c1-fb6516c05189",
   "metadata": {},
   "outputs": [],
   "source": [
    "import scipy.io as sio\n",
    "import matplotlib.pyplot as plt\n",
    "import pandas as pd\n",
    "import numpy as np\n",
    "from pylops.utils.wavelets import ricker\n",
    "import pylops\n",
    "\n",
    "from sklearn.preprocessing import MinMaxScaler,StandardScaler\n",
    "from sklearn.metrics import r2_score\n",
    "\n",
    "import tensorflow as tf\n",
    "\n",
    "from PIL import *\n",
    "\n",
    "from tensorflow.keras.models import *\n",
    "from tensorflow.keras.layers import *\n",
    "from tensorflow.keras import backend as keras\n",
    "\n",
    "from scipy.signal import filtfilt\n",
    "\n",
    "from sklearn.model_selection import train_test_split\n",
    "\n",
    "from matplotlib.backends.backend_pdf import PdfPages\n",
    "\n",
    "from sklearn import preprocessing\n",
    "import warnings\n",
    "warnings.filterwarnings('ignore')"
   ]
  },
  {
   "cell_type": "markdown",
   "id": "bed3ebd2",
   "metadata": {},
   "source": [
    "### 加载地震数据和模型数据"
   ]
  },
  {
   "cell_type": "code",
   "execution_count": 2,
   "id": "17249847",
   "metadata": {},
   "outputs": [],
   "source": [
    "syn = sio.loadmat('newsyn.mat')\n",
    "syn = syn['foo']\n",
    "Model3 = sio.loadmat('newModel.mat')\n",
    "Model3 = Model3['foo']"
   ]
  },
  {
   "cell_type": "code",
   "execution_count": 3,
   "id": "f8990b8e",
   "metadata": {},
   "outputs": [],
   "source": [
    "Seis10_0 = syn[:,25,0]\n",
    "Seis10_1 = syn[:,25+50,0]\n",
    "Seis10_2 = syn[:,25+50*2,0]\n",
    "\n",
    "Seis20_0 = syn[:,25,1]\n",
    "Seis20_1 = syn[:,25+50,1]\n",
    "Seis20_2 = syn[:,25+50*2,1]\n",
    "\n",
    "Seis30_0 = syn[:,25,2]\n",
    "Seis30_1 = syn[:,25+50,2]\n",
    "Seis30_2 = syn[:,25+50*2,2]"
   ]
  },
  {
   "cell_type": "code",
   "execution_count": 4,
   "id": "148c7193",
   "metadata": {},
   "outputs": [],
   "source": [
    "PBYSVP0 =  Model3[:,25,0]\n",
    "PBYSVP1 =  Model3[:,25+50,0]\n",
    "PBYSVP2 =  Model3[:,25+50*2,0]\n",
    "\n",
    "PBYSVS0 =  Model3[:,25,1]\n",
    "PBYSVS1 =  Model3[:,25+50,1]\n",
    "PBYSVS2 =  Model3[:,25+50*2,1]\n",
    "\n",
    "PBYSDN0 =  Model3[:,25,2]\n",
    "PBYSDN1 =  Model3[:,25+50,2]\n",
    "PBYSDN2 =  Model3[:,25+50*2,2]"
   ]
  },
  {
   "cell_type": "code",
   "execution_count": 5,
   "id": "36f2292a",
   "metadata": {},
   "outputs": [],
   "source": [
    "def minmax(data,Min,Max):\n",
    "    sample = (data - Min)/ (Max - Min)\n",
    "    return sample "
   ]
  },
  {
   "cell_type": "code",
   "execution_count": 6,
   "id": "4bfa86ea",
   "metadata": {},
   "outputs": [],
   "source": [
    "num = 125\n",
    "S10min125 = np.min(syn[:,num,0])\n",
    "S10max125 = np.max(syn[:,num,0])\n",
    "\n",
    "S20min125 = np.min(syn[:,num,1])\n",
    "S20max125 = np.max(syn[:,num,1])\n",
    "\n",
    "S30min125 = np.min(syn[:,num,2])\n",
    "S30max125 = np.max(syn[:,num,2])\n",
    "\n",
    "VPmin125 = np.min(Model3[:,num,0])\n",
    "VPmax125 = np.max(Model3[:,num,0])\n",
    "\n",
    "VSmin125 = np.min(Model3[:,num,1])\n",
    "VSmax125 = np.max(Model3[:,num,1])\n",
    "\n",
    "DNmin125 = np.min(Model3[:,num,2])\n",
    "DNmax125 = np.max(Model3[:,num,2])"
   ]
  },
  {
   "cell_type": "code",
   "execution_count": 7,
   "id": "59300d9b",
   "metadata": {},
   "outputs": [],
   "source": [
    "s10_0 = minmax(Seis10_0,S10min125,S10max125)\n",
    "s10_1 = minmax(Seis10_1,S10min125,S10max125)\n",
    "s10_2 = minmax(Seis10_2,S10min125,S10max125)\n",
    "\n",
    "s20_0 = minmax(Seis20_0,S20min125,S20max125)\n",
    "s20_1 = minmax(Seis20_1,S20min125,S20max125)\n",
    "s20_2 = minmax(Seis20_2,S20min125,S20max125)\n",
    "\n",
    "s30_0 = minmax(Seis30_0,S30min125,S30max125)\n",
    "s30_1 = minmax(Seis30_1,S30min125,S30max125)\n",
    "s30_2 = minmax(Seis30_2,S30min125,S30max125)\n",
    "\n",
    "vp = minmax(PBYSVP0,VPmin125,VPmax125)\n",
    "vp1 = minmax(PBYSVP1,VPmin125,VPmax125)\n",
    "vp2 = minmax(PBYSVP2,VPmin125,VPmax125)\n",
    "\n",
    "vs = minmax(PBYSVS0,VSmin125,VSmax125)\n",
    "vs1 = minmax(PBYSVS1,VSmin125,VSmax125)\n",
    "vs2 = minmax(PBYSVS2,VSmin125,VSmax125)\n",
    "\n",
    "dn = minmax(PBYSDN0,DNmin125,DNmax125)\n",
    "dn1 = minmax(PBYSDN1,DNmin125,DNmax125)\n",
    "dn2 = minmax(PBYSDN2,DNmin125,DNmax125)"
   ]
  },
  {
   "cell_type": "code",
   "execution_count": 11,
   "id": "c4e059e4",
   "metadata": {},
   "outputs": [],
   "source": [
    "#归一化之后的2道训练样本(地震数据）和标签（模型数据）\n",
    "x10_train = np.stack((s10_1,s10_2),axis = 0)\n",
    "x20_train = np.stack((s20_1,s20_2),axis = 0)\n",
    "x30_train = np.stack((s30_1,s30_2),axis = 0)\n",
    "x_train = np.stack((x10_train,x20_train,x30_train),axis=2)\n",
    "x1_train= np.expand_dims(x_train,2)\n",
    "\n",
    "Y_train0 = np.stack((vp1,vp2),axis = 0)\n",
    "Y_train1 = np.stack((vs1,vs2),axis = 0)\n",
    "Y_train2 = np.stack((dn1,dn2),axis = 0)\n",
    "Y_train = np.stack((Y_train0,Y_train1,Y_train2),axis=2)\n",
    "Y1_train= np.expand_dims(Y_train,2)"
   ]
  },
  {
   "cell_type": "code",
   "execution_count": 12,
   "id": "133c1e83",
   "metadata": {},
   "outputs": [],
   "source": [
    "#归一化之后的全部训练样本(地震数据）\n",
    "S10_0= np.tile(s10_0, (50, 1)).T  # 按列堆叠50次，并将结果转置得到二维数组\n",
    "S10_1= np.tile(s10_1, (50, 1)).T\n",
    "S10_2= np.tile(s10_2, (50, 1)).T\n",
    "S10 = np.concatenate((S10_0,S10_1,S10_2),axis=1)\n",
    "\n",
    "S20_0= np.tile(s20_0, (50, 1)).T  # 按列堆叠50次，并将结果转置得到二维数组\n",
    "S20_1= np.tile(s20_1, (50, 1)).T\n",
    "S20_2= np.tile(s20_2, (50, 1)).T\n",
    "S20 = np.concatenate((S20_0,S20_1,S20_2),axis=1)\n",
    "\n",
    "S30_0= np.tile(s30_0, (50, 1)).T  # 按列堆叠50次，并将结果转置得到二维数组\n",
    "S30_1= np.tile(s30_1, (50, 1)).T\n",
    "S30_2= np.tile(s30_2, (50, 1)).T\n",
    "S30 = np.concatenate((S30_0,S30_1,S30_2),axis=1)\n",
    "\n",
    "S = np.stack((S10,S20,S30),axis=2)\n",
    "S_= np.expand_dims(S,2)\n",
    "S2_ = np.transpose(S_,(1,0,2,3))"
   ]
  },
  {
   "cell_type": "code",
   "execution_count": 13,
   "id": "810eaa24",
   "metadata": {},
   "outputs": [],
   "source": [
    "#取原始地震数据后两个相带各一道地震道\n",
    "trueseis75 = syn[:,75,:]\n",
    "trueseis125 = syn[:,125,:]\n",
    "trueseis2 = np.stack((trueseis75,trueseis125),axis = 0)\n",
    "trueseis_2 = np.expand_dims(trueseis2,axis = 2)"
   ]
  },
  {
   "cell_type": "code",
   "execution_count": 14,
   "id": "d594285e",
   "metadata": {},
   "outputs": [],
   "source": [
    "import tensorflow as tf\n",
    "from tensorflow.keras.layers import Input, Conv2D, Dense, Flatten, Reshape, Multiply, Add, Permute\n",
    "from tensorflow.keras.models import Model\n",
    "import numpy as np\n",
    "from scipy import signal\n",
    "from pylops.utils.wavelets import ricker\n",
    "\n",
    "def seismic_loss1(S2_, predictions):\n",
    "    vsvp = 0.5\n",
    "    ntheta = 3\n",
    "    thetamin, thetamax = 10, 30\n",
    "    theta = np.linspace(thetamin, thetamax, ntheta)\n",
    "\n",
    "    nt0 = 899\n",
    "    dt0 = 0.0005\n",
    "    t0 = np.arange(nt0) * dt0\n",
    "    ntwav = 401\n",
    "    wav = np.random.rand(ntwav // 2 + 1).astype(np.float32)\n",
    "\n",
    "    def reverse(data, Min, Max):\n",
    "        sample = data * (Max - Min) + Min\n",
    "        return sample\n",
    "\n",
    "    Re_FPVP = reverse(predictions[:, :, 0, 0], VPmin125, VPmax125)\n",
    "    Re_FPVS = reverse(predictions[:, :, 0, 1], VSmin125, VSmax125)\n",
    "    Re_FPDN = reverse(predictions[:, :, 0, 2], DNmin125, DNmax125)\n",
    "    Re_FP = tf.stack((Re_FPVP, Re_FPVS, Re_FPDN), axis=2)\n",
    "    Re_FP1 = tf.expand_dims(Re_FP, axis=2)\n",
    "    s1 = tf.math.log(Re_FP1)\n",
    "    #print(\"s1 shape:\", s1.shape)\n",
    "\n",
    "    SYN = tf.zeros((2, 899, 1, 3), dtype=tf.float32)\n",
    "    SYN_var = tf.Variable(SYN)\n",
    "\n",
    "    for i in range(2):\n",
    "        m = s1[i, :, :, :]\n",
    "        PPop_dense = pylops.avo.prestack.PrestackLinearModelling(wav, theta, vsvp=vsvp, nt0=nt0, linearization=\"akirich\", explicit=True)\n",
    "        tf_transposed = tf.transpose(m, perm=[2, 1, 0])\n",
    "        tf_result = tf.reshape(tf_transposed, [-1])\n",
    "        dPP_dense = PPop_dense * tf_result\n",
    "        tf_reshaped = tf.reshape(dPP_dense, [nt0, 1, ntheta]) \n",
    "        SYN_var[i].assign(tf.cast(tf_reshaped, tf.float32))\n",
    "\n",
    "    return tf.reduce_mean(tf.square(S2_ - SYN_var)) \n",
    "\n",
    "def well_loss2(y_true, y_pred):\n",
    "    return tf.reduce_mean(tf.square(y_true - y_pred))\n",
    "\n",
    "\n",
    "from scipy.signal import butter, filtfilt\n",
    "def butter_lowpass(nfilt, cutofffr):\n",
    "    b, a = butter(nfilt, cutofffr, btype='low', analog=False)\n",
    "    return b, a\n",
    "\n",
    "def apply_butterworth_filter(y, b, a):\n",
    "    # Convert b, a to TensorFlow tensors\n",
    "    b = tf.convert_to_tensor(b, dtype=y.dtype)\n",
    "    a = tf.convert_to_tensor(a, dtype=y.dtype)\n",
    "\n",
    "    # Ensure y is 4-dimensional for conv2d\n",
    "    y = tf.expand_dims(tf.expand_dims(y, axis=-1), axis=0)  # Expand dimensions\n",
    "\n",
    "    # Forward filtering\n",
    "    b = tf.reshape(b, (len(b), 1, 1, 1))\n",
    "    forward = tf.nn.conv2d(y, filters=b, strides=[1, 1, 1, 1], padding='SAME')\n",
    "    forward /= a[0]\n",
    "\n",
    "    # Reverse filtering\n",
    "    backward = tf.nn.conv2d(tf.reverse(forward, axis=[1]), filters=b, strides=[1, 1, 1, 1], padding='SAME')\n",
    "    backward /= a[0]\n",
    "\n",
    "    return tf.squeeze(tf.reverse(backward, axis=[1]), axis=0)\n",
    "\n",
    "def lowmodel_loss3(y_true3, y_pred3):\n",
    "    # Low-frequency component loss function example (customize as needed)\n",
    "    y_true3 = tf.expand_dims(y_true3, axis=2)\n",
    "    y_true3 = tf.transpose(y_true3, (1, 0, 2, 3))\n",
    "\n",
    "    y_true75 = y_true3[75,:,:,:]\n",
    "    y_true125 = y_true3[125,:,:,:]\n",
    "    y_true1 = tf.stack((y_true75,y_true125),axis = 0)\n",
    "\n",
    "    predictions3 = tf.squeeze(y_pred3)\n",
    "    predictions_t = y_pred3\n",
    "    def reverse(data,Min,Max):\n",
    "        sample = data * (Max- Min) + Min\n",
    "        return sample\n",
    "    Re_FPVP = reverse(predictions_t[:,:,0,0],VPmin125,VPmax125)\n",
    "    Re_FPVS = reverse(predictions_t[:,:,0,1],VSmin125,VSmax125)\n",
    "    Re_FPDN = reverse(predictions_t[:,:,0,2],DNmin125,DNmax125)\n",
    "    Re_FP = tf.stack((Re_FPVP,Re_FPVS,Re_FPDN),axis = 2)\n",
    "\n",
    "    nfilt = 3\n",
    "    cutofffr = 0.03\n",
    "    b, a = butter_lowpass(nfilt, cutofffr)\n",
    "\n",
    "    y_true = y_true1\n",
    "    y1_pred = tf.expand_dims(Re_FP,axis=2)\n",
    "    y_pred = y1_pred\n",
    "\n",
    "    low_freq_true_list = []\n",
    "\n",
    "    for i in range(y_true.shape[3]):\n",
    "        for j in range(y_true.shape[2]):\n",
    "            low_freq_true_list.append(apply_butterworth_filter(y_true[:, :, j, i], b, a))\n",
    "\n",
    "    low_freq_true = tf.stack(low_freq_true_list, axis=-1)\n",
    "    low_freq_true1 = tf.reshape(low_freq_true, y_true.shape)\n",
    "\n",
    "    low_freq_pred_list = []\n",
    "\n",
    "    for i in range(y_pred.shape[3]):\n",
    "        for j in range(y_pred.shape[2]):\n",
    "            low_freq_pred_list.append(apply_butterworth_filter(y_pred[:, :, j, i], b, a))\n",
    "\n",
    "    low_freq_pred = tf.stack(low_freq_pred_list, axis=-1)\n",
    "    low_freq_pred1 = tf.reshape(low_freq_pred, y_pred.shape)\n",
    "\n",
    "\n",
    "    return tf.reduce_mean(tf.square(low_freq_true1-low_freq_pred1))\n",
    "\n",
    "def deep_model_STACGN(input_size=(899,1,3)):\n",
    "    input_ = Input(input_size)\n",
    "\n",
    "    conv1 = Conv2D(12, (5,3), padding=\"same\", activation=\"relu\")(input_)\n",
    "    x = Conv2D(6, (3, 3), activation='relu', padding='same')(conv1)\n",
    "    a = Dense(6, activation='relu')(x)\n",
    "    s2 = Multiply()([a, x])\n",
    "\n",
    "    input_1 = Reshape((899, 3))(input_)\n",
    "    G1 = tf.keras.layers.GRU(6, return_sequences=True, activation='relu')(input_1)#relu\n",
    "    g1 = Reshape((899, 1, 6))(G1)\n",
    "    Gg = Permute((3, 2, 1))(g1)\n",
    "    G2 = Dense(899, activation='relu')(Gg)\n",
    "    R = Multiply()([Gg, G2])\n",
    "    R1 = Permute((3, 2, 1))(R)\n",
    "\n",
    "    combined = Add()([s2, R1])\n",
    "\n",
    "    flatten = Flatten()(combined)\n",
    "    output = Dense(899*3)(flatten)\n",
    "    output1 = Reshape((899, 1, 3))(output)\n",
    "    deep_model = Model(inputs=input_, outputs=output1)\n",
    "\n",
    "    return deep_model"
   ]
  },
  {
   "cell_type": "code",
   "execution_count": 15,
   "id": "9b2b42aa",
   "metadata": {
    "scrolled": true
   },
   "outputs": [
    {
     "name": "stderr",
     "output_type": "stream",
     "text": [
      "  1%|▊                                                                                 | 1/100 [00:07<12:09,  7.37s/it]"
     ]
    },
    {
     "name": "stdout",
     "output_type": "stream",
     "text": [
      "Epoch 1, Total Loss: 0.1337275356054306, Loss1: 0.00032618804834783077, Loss2: 0.13340134918689728, Loss3: 2.7031725746695656e-09\n"
     ]
    },
    {
     "name": "stderr",
     "output_type": "stream",
     "text": [
      "\r",
      "  2%|█▋                                                                                | 2/100 [00:13<10:28,  6.41s/it]"
     ]
    },
    {
     "name": "stdout",
     "output_type": "stream",
     "text": [
      "Epoch 2, Total Loss: 0.12598015367984772, Loss1: 0.00032460721558891237, Loss2: 0.12565554678440094, Loss3: 2.541194366045829e-09\n"
     ]
    },
    {
     "name": "stderr",
     "output_type": "stream",
     "text": [
      "\r",
      "  3%|██▍                                                                               | 3/100 [00:18<09:28,  5.86s/it]"
     ]
    },
    {
     "name": "stdout",
     "output_type": "stream",
     "text": [
      "Epoch 3, Total Loss: 0.11296688765287399, Loss1: 0.0003421427682042122, Loss2: 0.11262474209070206, Loss3: 2.2674824240453972e-09\n"
     ]
    },
    {
     "name": "stderr",
     "output_type": "stream",
     "text": [
      "\r",
      "  4%|███▎                                                                              | 4/100 [00:23<08:57,  5.60s/it]"
     ]
    },
    {
     "name": "stdout",
     "output_type": "stream",
     "text": [
      "Epoch 4, Total Loss: 0.09195800125598907, Loss1: 0.0003710869059432298, Loss2: 0.09158691763877869, Loss3: 1.8256675060612793e-09\n"
     ]
    },
    {
     "name": "stderr",
     "output_type": "stream",
     "text": [
      "\r",
      "  5%|████                                                                              | 5/100 [00:29<09:03,  5.72s/it]"
     ]
    },
    {
     "name": "stdout",
     "output_type": "stream",
     "text": [
      "Epoch 5, Total Loss: 0.06452533602714539, Loss1: 0.0004305963811930269, Loss2: 0.06409473717212677, Loss3: 1.248734893266601e-09\n"
     ]
    },
    {
     "name": "stderr",
     "output_type": "stream",
     "text": [
      "\r",
      "  6%|████▉                                                                             | 6/100 [00:35<08:53,  5.68s/it]"
     ]
    },
    {
     "name": "stdout",
     "output_type": "stream",
     "text": [
      "Epoch 6, Total Loss: 0.03675496578216553, Loss1: 0.0004656285746023059, Loss2: 0.036289338022470474, Loss3: 6.664284679658294e-10\n"
     ]
    },
    {
     "name": "stderr",
     "output_type": "stream",
     "text": [
      "\r",
      "  7%|█████▋                                                                            | 7/100 [00:40<08:47,  5.68s/it]"
     ]
    },
    {
     "name": "stdout",
     "output_type": "stream",
     "text": [
      "Epoch 7, Total Loss: 0.020490730181336403, Loss1: 0.0005097187822684646, Loss2: 0.019981011748313904, Loss3: 3.283907867857039e-10\n"
     ]
    },
    {
     "name": "stderr",
     "output_type": "stream",
     "text": [
      "\r",
      "  8%|██████▌                                                                           | 8/100 [00:46<08:44,  5.70s/it]"
     ]
    },
    {
     "name": "stdout",
     "output_type": "stream",
     "text": [
      "Epoch 8, Total Loss: 0.025858165696263313, Loss1: 0.000550994009245187, Loss2: 0.025307171046733856, Loss3: 4.4826711786960516e-10\n"
     ]
    },
    {
     "name": "stderr",
     "output_type": "stream",
     "text": [
      "\r",
      "  9%|███████▍                                                                          | 9/100 [00:53<09:21,  6.18s/it]"
     ]
    },
    {
     "name": "stdout",
     "output_type": "stream",
     "text": [
      "Epoch 9, Total Loss: 0.03400701656937599, Loss1: 0.0004971883026883006, Loss2: 0.03350982815027237, Loss3: 6.27526031138359e-10\n"
     ]
    },
    {
     "name": "stderr",
     "output_type": "stream",
     "text": [
      "\r",
      " 10%|████████                                                                         | 10/100 [00:59<09:12,  6.14s/it]"
     ]
    },
    {
     "name": "stdout",
     "output_type": "stream",
     "text": [
      "Epoch 10, Total Loss: 0.027201419696211815, Loss1: 0.0005013100453652442, Loss2: 0.026700109243392944, Loss3: 4.869007419472382e-10\n"
     ]
    },
    {
     "name": "stderr",
     "output_type": "stream",
     "text": [
      "\r",
      " 11%|████████▉                                                                        | 11/100 [01:05<08:51,  5.97s/it]"
     ]
    },
    {
     "name": "stdout",
     "output_type": "stream",
     "text": [
      "Epoch 11, Total Loss: 0.015241434797644615, Loss1: 0.0005645561031997204, Loss2: 0.014676879160106182, Loss3: 2.3315568919990426e-10\n"
     ]
    },
    {
     "name": "stderr",
     "output_type": "stream",
     "text": [
      "\r",
      " 12%|█████████▋                                                                       | 12/100 [01:10<08:31,  5.81s/it]"
     ]
    },
    {
     "name": "stdout",
     "output_type": "stream",
     "text": [
      "Epoch 12, Total Loss: 0.00808397214859724, Loss1: 0.0006360758561640978, Loss2: 0.007447896059602499, Loss3: 7.880883445832154e-11\n"
     ]
    },
    {
     "name": "stderr",
     "output_type": "stream",
     "text": [
      "\r",
      " 13%|██████████▌                                                                      | 13/100 [01:16<08:30,  5.87s/it]"
     ]
    },
    {
     "name": "stdout",
     "output_type": "stream",
     "text": [
      "Epoch 13, Total Loss: 0.007530034985393286, Loss1: 0.0006765089347027242, Loss2: 0.006853525992482901, Loss3: 6.427065130099052e-11\n"
     ]
    },
    {
     "name": "stderr",
     "output_type": "stream",
     "text": [
      "\r",
      " 14%|███████████▎                                                                     | 14/100 [01:22<08:18,  5.80s/it]"
     ]
    },
    {
     "name": "stdout",
     "output_type": "stream",
     "text": [
      "Epoch 14, Total Loss: 0.010700191371142864, Loss1: 0.0007495770696550608, Loss2: 0.009950614534318447, Loss3: 1.2834244778048287e-10\n"
     ]
    },
    {
     "name": "stderr",
     "output_type": "stream",
     "text": [
      "\r",
      " 15%|████████████▏                                                                    | 15/100 [01:27<08:01,  5.66s/it]"
     ]
    },
    {
     "name": "stdout",
     "output_type": "stream",
     "text": [
      "Epoch 15, Total Loss: 0.014097580686211586, Loss1: 0.0006223816890269518, Loss2: 0.013475199230015278, Loss3: 2.0235049746908373e-10\n"
     ]
    },
    {
     "name": "stderr",
     "output_type": "stream",
     "text": [
      "\r",
      " 16%|████████████▉                                                                    | 16/100 [01:33<07:59,  5.70s/it]"
     ]
    },
    {
     "name": "stdout",
     "output_type": "stream",
     "text": [
      "Epoch 16, Total Loss: 0.016182998195290565, Loss1: 0.0006277514039538801, Loss2: 0.015555247664451599, Loss3: 2.4672006104786703e-10\n"
     ]
    },
    {
     "name": "stderr",
     "output_type": "stream",
     "text": [
      "\r",
      " 17%|█████████████▊                                                                   | 17/100 [01:39<07:54,  5.72s/it]"
     ]
    },
    {
     "name": "stdout",
     "output_type": "stream",
     "text": [
      "Epoch 17, Total Loss: 0.01625022292137146, Loss1: 0.0006385517190210521, Loss2: 0.015611670911312103, Loss3: 2.4910762341789905e-10\n"
     ]
    },
    {
     "name": "stderr",
     "output_type": "stream",
     "text": [
      "\r",
      " 18%|██████████████▌                                                                  | 18/100 [01:45<07:50,  5.74s/it]"
     ]
    },
    {
     "name": "stdout",
     "output_type": "stream",
     "text": [
      "Epoch 18, Total Loss: 0.014434311538934708, Loss1: 0.0005515475058928132, Loss2: 0.013882763683795929, Loss3: 2.1440504927028314e-10\n"
     ]
    },
    {
     "name": "stderr",
     "output_type": "stream",
     "text": [
      "\r",
      " 19%|███████████████▍                                                                 | 19/100 [01:50<07:44,  5.73s/it]"
     ]
    },
    {
     "name": "stdout",
     "output_type": "stream",
     "text": [
      "Epoch 19, Total Loss: 0.011742692440748215, Loss1: 0.0006596817402169108, Loss2: 0.011083010584115982, Loss3: 1.5751160098442796e-10\n"
     ]
    },
    {
     "name": "stderr",
     "output_type": "stream",
     "text": [
      "\r",
      " 20%|████████████████▏                                                                | 20/100 [01:56<07:37,  5.72s/it]"
     ]
    },
    {
     "name": "stdout",
     "output_type": "stream",
     "text": [
      "Epoch 20, Total Loss: 0.008920370601117611, Loss1: 0.0007103176321834326, Loss2: 0.008210052736103535, Loss3: 9.926860028430795e-11\n"
     ]
    },
    {
     "name": "stderr",
     "output_type": "stream",
     "text": [
      "\r",
      " 21%|█████████████████                                                                | 21/100 [02:02<07:33,  5.74s/it]"
     ]
    },
    {
     "name": "stdout",
     "output_type": "stream",
     "text": [
      "Epoch 21, Total Loss: 0.006969962734729052, Loss1: 0.0007028037798590958, Loss2: 0.006267158780246973, Loss3: 6.06255601276473e-11\n"
     ]
    },
    {
     "name": "stderr",
     "output_type": "stream",
     "text": [
      "\r",
      " 22%|█████████████████▊                                                               | 22/100 [02:08<07:28,  5.74s/it]"
     ]
    },
    {
     "name": "stdout",
     "output_type": "stream",
     "text": [
      "Epoch 22, Total Loss: 0.006549749057739973, Loss1: 0.0007030952838249505, Loss2: 0.00584665359929204, Loss3: 5.3831137464266376e-11\n"
     ]
    },
    {
     "name": "stderr",
     "output_type": "stream",
     "text": [
      "\r",
      " 23%|██████████████████▋                                                              | 23/100 [02:13<07:21,  5.73s/it]"
     ]
    },
    {
     "name": "stdout",
     "output_type": "stream",
     "text": [
      "Epoch 23, Total Loss: 0.007292456924915314, Loss1: 0.0006053730030544102, Loss2: 0.006687083747237921, Loss3: 7.313324945634747e-11\n"
     ]
    },
    {
     "name": "stderr",
     "output_type": "stream",
     "text": [
      "\r",
      " 24%|███████████████████▍                                                             | 24/100 [02:19<07:06,  5.62s/it]"
     ]
    },
    {
     "name": "stdout",
     "output_type": "stream",
     "text": [
      "Epoch 24, Total Loss: 0.008349461480975151, Loss1: 0.0006581108900718391, Loss2: 0.007691350299865007, Loss3: 9.520994409539796e-11\n"
     ]
    },
    {
     "name": "stderr",
     "output_type": "stream",
     "text": [
      "\r",
      " 25%|████████████████████▎                                                            | 25/100 [02:24<06:53,  5.52s/it]"
     ]
    },
    {
     "name": "stdout",
     "output_type": "stream",
     "text": [
      "Epoch 25, Total Loss: 0.008384466171264648, Loss1: 0.0006263793329708278, Loss2: 0.007758087012916803, Loss3: 9.667858180684163e-11\n"
     ]
    },
    {
     "name": "stderr",
     "output_type": "stream",
     "text": [
      "\r",
      " 26%|█████████████████████                                                            | 26/100 [02:30<06:50,  5.55s/it]"
     ]
    },
    {
     "name": "stdout",
     "output_type": "stream",
     "text": [
      "Epoch 26, Total Loss: 0.00727621465921402, Loss1: 0.0005675964057445526, Loss2: 0.006708618253469467, Loss3: 7.3754148621763e-11\n"
     ]
    },
    {
     "name": "stderr",
     "output_type": "stream",
     "text": [
      "\r",
      " 27%|█████████████████████▊                                                           | 27/100 [02:35<06:48,  5.60s/it]"
     ]
    },
    {
     "name": "stdout",
     "output_type": "stream",
     "text": [
      "Epoch 27, Total Loss: 0.005768058355897665, Loss1: 0.0005024643614888191, Loss2: 0.005265593994408846, Loss3: 4.1840423486982914e-11\n"
     ]
    },
    {
     "name": "stderr",
     "output_type": "stream",
     "text": [
      "\r",
      " 28%|██████████████████████▋                                                          | 28/100 [02:41<06:44,  5.62s/it]"
     ]
    },
    {
     "name": "stdout",
     "output_type": "stream",
     "text": [
      "Epoch 28, Total Loss: 0.004804478958249092, Loss1: 0.0005161978187970817, Loss2: 0.004288281314074993, Loss3: 1.940931443344951e-11\n"
     ]
    },
    {
     "name": "stderr",
     "output_type": "stream",
     "text": [
      "\r",
      " 29%|███████████████████████▍                                                         | 29/100 [02:47<06:49,  5.77s/it]"
     ]
    },
    {
     "name": "stdout",
     "output_type": "stream",
     "text": [
      "Epoch 29, Total Loss: 0.004664314445108175, Loss1: 0.000533382932189852, Loss2: 0.004130931571125984, Loss3: 1.4284031422950871e-11\n"
     ]
    },
    {
     "name": "stderr",
     "output_type": "stream",
     "text": [
      "\r",
      " 30%|████████████████████████▎                                                        | 30/100 [02:53<06:44,  5.78s/it]"
     ]
    },
    {
     "name": "stdout",
     "output_type": "stream",
     "text": [
      "Epoch 30, Total Loss: 0.005022427067160606, Loss1: 0.0004614798817783594, Loss2: 0.004560947418212891, Loss3: 2.198580900669711e-11\n"
     ]
    },
    {
     "name": "stderr",
     "output_type": "stream",
     "text": [
      "\r",
      " 31%|█████████████████████████                                                        | 31/100 [02:58<06:34,  5.71s/it]"
     ]
    },
    {
     "name": "stdout",
     "output_type": "stream",
     "text": [
      "Epoch 31, Total Loss: 0.005593169014900923, Loss1: 0.0005016730283387005, Loss2: 0.0050914958119392395, Loss3: 3.2463962074125163e-11\n"
     ]
    },
    {
     "name": "stderr",
     "output_type": "stream",
     "text": [
      "\r",
      " 32%|█████████████████████████▉                                                       | 32/100 [03:04<06:31,  5.76s/it]"
     ]
    },
    {
     "name": "stdout",
     "output_type": "stream",
     "text": [
      "Epoch 32, Total Loss: 0.005836285185068846, Loss1: 0.000512994360178709, Loss2: 0.005323290824890137, Loss3: 3.736657511188568e-11\n"
     ]
    },
    {
     "name": "stderr",
     "output_type": "stream",
     "text": [
      "\r",
      " 33%|██████████████████████████▋                                                      | 33/100 [03:09<06:13,  5.57s/it]"
     ]
    },
    {
     "name": "stdout",
     "output_type": "stream",
     "text": [
      "Epoch 33, Total Loss: 0.005566294305026531, Loss1: 0.0004405703512020409, Loss2: 0.005125723779201508, Loss3: 3.390469502373428e-11\n"
     ]
    },
    {
     "name": "stderr",
     "output_type": "stream",
     "text": [
      "\r",
      " 34%|███████████████████████████▌                                                     | 34/100 [03:15<06:15,  5.70s/it]"
     ]
    },
    {
     "name": "stdout",
     "output_type": "stream",
     "text": [
      "Epoch 34, Total Loss: 0.005119475536048412, Loss1: 0.00048367810086347163, Loss2: 0.004635797347873449, Loss3: 2.4879367663266372e-11\n"
     ]
    },
    {
     "name": "stderr",
     "output_type": "stream",
     "text": [
      "\r",
      " 35%|████████████████████████████▎                                                    | 35/100 [03:21<06:16,  5.79s/it]"
     ]
    },
    {
     "name": "stdout",
     "output_type": "stream",
     "text": [
      "Epoch 35, Total Loss: 0.004700771067291498, Loss1: 0.000562491244636476, Loss2: 0.0041382797062397, Loss3: 1.614777235536824e-11\n"
     ]
    },
    {
     "name": "stderr",
     "output_type": "stream",
     "text": [
      "\r",
      " 36%|█████████████████████████████▏                                                   | 36/100 [03:27<06:10,  5.78s/it]"
     ]
    },
    {
     "name": "stdout",
     "output_type": "stream",
     "text": [
      "Epoch 36, Total Loss: 0.004446869716048241, Loss1: 0.0005568147753365338, Loss2: 0.003890054766088724, Loss3: 1.2927936499096404e-11\n"
     ]
    },
    {
     "name": "stderr",
     "output_type": "stream",
     "text": [
      "\r",
      " 37%|█████████████████████████████▉                                                   | 37/100 [03:33<05:59,  5.70s/it]"
     ]
    },
    {
     "name": "stdout",
     "output_type": "stream",
     "text": [
      "Epoch 37, Total Loss: 0.004463369492441416, Loss1: 0.000506464799400419, Loss2: 0.003956904634833336, Loss3: 1.6381753592531467e-11\n"
     ]
    },
    {
     "name": "stderr",
     "output_type": "stream",
     "text": [
      "\r",
      " 38%|██████████████████████████████▊                                                  | 38/100 [03:38<05:54,  5.72s/it]"
     ]
    },
    {
     "name": "stdout",
     "output_type": "stream",
     "text": [
      "Epoch 38, Total Loss: 0.0047155688516795635, Loss1: 0.0005489116301760077, Loss2: 0.004166657105088234, Loss3: 2.2665765098128787e-11\n"
     ]
    },
    {
     "name": "stderr",
     "output_type": "stream",
     "text": [
      "\r",
      " 39%|███████████████████████████████▌                                                 | 39/100 [03:44<05:52,  5.78s/it]"
     ]
    },
    {
     "name": "stdout",
     "output_type": "stream",
     "text": [
      "Epoch 39, Total Loss: 0.004806724842637777, Loss1: 0.0005632335087284446, Loss2: 0.004243491217494011, Loss3: 2.5816912843645845e-11\n"
     ]
    },
    {
     "name": "stderr",
     "output_type": "stream",
     "text": [
      "\r",
      " 40%|████████████████████████████████▍                                                | 40/100 [03:50<05:40,  5.67s/it]"
     ]
    },
    {
     "name": "stdout",
     "output_type": "stream",
     "text": [
      "Epoch 40, Total Loss: 0.004567887168377638, Loss1: 0.0005326458485797048, Loss2: 0.004035241436213255, Loss3: 2.258634425322814e-11\n"
     ]
    },
    {
     "name": "stderr",
     "output_type": "stream",
     "text": [
      "\r",
      " 41%|█████████████████████████████████▏                                               | 41/100 [03:55<05:29,  5.58s/it]"
     ]
    },
    {
     "name": "stdout",
     "output_type": "stream",
     "text": [
      "Epoch 41, Total Loss: 0.0041432008147239685, Loss1: 0.000516922096721828, Loss2: 0.0036262786015868187, Loss3: 1.481898978528129e-11\n"
     ]
    },
    {
     "name": "stderr",
     "output_type": "stream",
     "text": [
      "\r",
      " 42%|██████████████████████████████████                                               | 42/100 [04:01<05:24,  5.59s/it]"
     ]
    },
    {
     "name": "stdout",
     "output_type": "stream",
     "text": [
      "Epoch 42, Total Loss: 0.003736737882718444, Loss1: 0.0004981623496860266, Loss2: 0.0032385755330324173, Loss3: 7.332147909655529e-12\n"
     ]
    },
    {
     "name": "stderr",
     "output_type": "stream",
     "text": [
      "\r",
      " 43%|██████████████████████████████████▊                                              | 43/100 [04:06<05:12,  5.48s/it]"
     ]
    },
    {
     "name": "stdout",
     "output_type": "stream",
     "text": [
      "Epoch 43, Total Loss: 0.003608753439038992, Loss1: 0.0005678393063135445, Loss2: 0.0030409141909331083, Loss3: 3.843835839900667e-12\n"
     ]
    },
    {
     "name": "stderr",
     "output_type": "stream",
     "text": [
      "\r",
      " 44%|███████████████████████████████████▋                                             | 44/100 [04:11<05:01,  5.39s/it]"
     ]
    },
    {
     "name": "stdout",
     "output_type": "stream",
     "text": [
      "Epoch 44, Total Loss: 0.0036023485008627176, Loss1: 0.0005594782996922731, Loss2: 0.0030428702011704445, Loss3: 4.6984551665962826e-12\n"
     ]
    },
    {
     "name": "stderr",
     "output_type": "stream",
     "text": [
      "\r",
      " 45%|████████████████████████████████████▍                                            | 45/100 [04:16<04:53,  5.34s/it]"
     ]
    },
    {
     "name": "stdout",
     "output_type": "stream",
     "text": [
      "Epoch 45, Total Loss: 0.003661398310214281, Loss1: 0.0005329669220373034, Loss2: 0.003128431271761656, Loss3: 7.554412824462009e-12\n"
     ]
    },
    {
     "name": "stderr",
     "output_type": "stream",
     "text": [
      "\r",
      " 46%|█████████████████████████████████████▎                                           | 46/100 [04:22<04:51,  5.39s/it]"
     ]
    },
    {
     "name": "stdout",
     "output_type": "stream",
     "text": [
      "Epoch 46, Total Loss: 0.003691201563924551, Loss1: 0.0005282332422211766, Loss2: 0.003162968438118696, Loss3: 9.629981707892643e-12\n"
     ]
    },
    {
     "name": "stderr",
     "output_type": "stream",
     "text": [
      "\r",
      " 47%|██████████████████████████████████████                                           | 47/100 [04:27<04:47,  5.43s/it]"
     ]
    },
    {
     "name": "stdout",
     "output_type": "stream",
     "text": [
      "Epoch 47, Total Loss: 0.003623850643634796, Loss1: 0.0005412678001448512, Loss2: 0.0030825829599052668, Loss3: 9.581412052650506e-12\n"
     ]
    },
    {
     "name": "stderr",
     "output_type": "stream",
     "text": [
      "\r",
      " 48%|██████████████████████████████████████▉                                          | 48/100 [04:33<04:47,  5.52s/it]"
     ]
    },
    {
     "name": "stdout",
     "output_type": "stream",
     "text": [
      "Epoch 48, Total Loss: 0.0034275958314538, Loss1: 0.0005098676192574203, Loss2: 0.002917728153988719, Loss3: 8.004681119333501e-12\n"
     ]
    },
    {
     "name": "stderr",
     "output_type": "stream",
     "text": [
      "\r",
      " 49%|███████████████████████████████████████▋                                         | 49/100 [04:39<04:44,  5.57s/it]"
     ]
    },
    {
     "name": "stdout",
     "output_type": "stream",
     "text": [
      "Epoch 49, Total Loss: 0.003281509969383478, Loss1: 0.0005284517537802458, Loss2: 0.0027530582156032324, Loss3: 6.601650649751267e-12\n"
     ]
    },
    {
     "name": "stderr",
     "output_type": "stream",
     "text": [
      "\r",
      " 50%|████████████████████████████████████████▌                                        | 50/100 [04:45<04:43,  5.67s/it]"
     ]
    },
    {
     "name": "stdout",
     "output_type": "stream",
     "text": [
      "Epoch 50, Total Loss: 0.0032029205467551947, Loss1: 0.0005455648642964661, Loss2: 0.0026573557406663895, Loss3: 6.716638530079866e-12\n"
     ]
    },
    {
     "name": "stderr",
     "output_type": "stream",
     "text": [
      "\r",
      " 51%|█████████████████████████████████████████▎                                       | 51/100 [04:52<04:55,  6.04s/it]"
     ]
    },
    {
     "name": "stdout",
     "output_type": "stream",
     "text": [
      "Epoch 51, Total Loss: 0.0031821937300264835, Loss1: 0.0005505782319232821, Loss2: 0.0026316153816878796, Loss3: 8.261078453253301e-12\n"
     ]
    },
    {
     "name": "stderr",
     "output_type": "stream",
     "text": [
      "\r",
      " 52%|██████████████████████████████████████████                                       | 52/100 [04:58<05:01,  6.28s/it]"
     ]
    },
    {
     "name": "stdout",
     "output_type": "stream",
     "text": [
      "Epoch 52, Total Loss: 0.0032050451263785362, Loss1: 0.0005914297653362155, Loss2: 0.0026136154774576426, Loss3: 9.831441216689996e-12\n"
     ]
    },
    {
     "name": "stderr",
     "output_type": "stream",
     "text": [
      "\r",
      " 53%|██████████████████████████████████████████▉                                      | 53/100 [05:04<04:42,  6.02s/it]"
     ]
    },
    {
     "name": "stdout",
     "output_type": "stream",
     "text": [
      "Epoch 53, Total Loss: 0.003100122557953, Loss1: 0.0005642242613248527, Loss2: 0.0025358982384204865, Loss3: 9.952469404161945e-12\n"
     ]
    },
    {
     "name": "stderr",
     "output_type": "stream",
     "text": [
      "\r",
      " 54%|███████████████████████████████████████████▋                                     | 54/100 [05:09<04:30,  5.89s/it]"
     ]
    },
    {
     "name": "stdout",
     "output_type": "stream",
     "text": [
      "Epoch 54, Total Loss: 0.0029340167529881, Loss1: 0.0005487337475642562, Loss2: 0.0023852831218391657, Loss3: 8.342932247829005e-12\n"
     ]
    },
    {
     "name": "stderr",
     "output_type": "stream",
     "text": [
      "\r",
      " 55%|████████████████████████████████████████████▌                                    | 55/100 [05:15<04:20,  5.79s/it]"
     ]
    },
    {
     "name": "stdout",
     "output_type": "stream",
     "text": [
      "Epoch 55, Total Loss: 0.002704769838601351, Loss1: 0.000495491549372673, Loss2: 0.0022092782892286777, Loss3: 6.048531901031717e-12\n"
     ]
    },
    {
     "name": "stderr",
     "output_type": "stream",
     "text": [
      "\r",
      " 56%|█████████████████████████████████████████████▎                                   | 56/100 [05:20<04:09,  5.68s/it]"
     ]
    },
    {
     "name": "stdout",
     "output_type": "stream",
     "text": [
      "Epoch 56, Total Loss: 0.002784685930237174, Loss1: 0.0007156257051974535, Loss2: 0.0020690602250397205, Loss3: 4.435399096613946e-12\n"
     ]
    },
    {
     "name": "stderr",
     "output_type": "stream",
     "text": [
      "\r",
      " 57%|██████████████████████████████████████████████▏                                  | 57/100 [05:26<04:07,  5.74s/it]"
     ]
    },
    {
     "name": "stdout",
     "output_type": "stream",
     "text": [
      "Epoch 57, Total Loss: 0.0025440945755690336, Loss1: 0.0005554629606194794, Loss2: 0.001988631673157215, Loss3: 4.095273599402649e-12\n"
     ]
    },
    {
     "name": "stderr",
     "output_type": "stream",
     "text": [
      "\r",
      " 58%|██████████████████████████████████████████████▉                                  | 58/100 [05:32<04:03,  5.79s/it]"
     ]
    },
    {
     "name": "stdout",
     "output_type": "stream",
     "text": [
      "Epoch 58, Total Loss: 0.0024793222546577454, Loss1: 0.0005358180496841669, Loss2: 0.0019435043213889003, Loss3: 4.584303422983105e-12\n"
     ]
    },
    {
     "name": "stderr",
     "output_type": "stream",
     "text": [
      "\r",
      " 59%|███████████████████████████████████████████████▊                                 | 59/100 [05:38<03:57,  5.79s/it]"
     ]
    },
    {
     "name": "stdout",
     "output_type": "stream",
     "text": [
      "Epoch 59, Total Loss: 0.0023934938944876194, Loss1: 0.0005041744443587959, Loss2: 0.0018893195083364844, Loss3: 5.008536120565399e-12\n"
     ]
    },
    {
     "name": "stderr",
     "output_type": "stream",
     "text": [
      "\r",
      " 60%|████████████████████████████████████████████████▌                                | 60/100 [05:44<03:49,  5.73s/it]"
     ]
    },
    {
     "name": "stdout",
     "output_type": "stream",
     "text": [
      "Epoch 60, Total Loss: 0.0023246153723448515, Loss1: 0.0005253197741694748, Loss2: 0.0017992956563830376, Loss3: 4.807497282210971e-12\n"
     ]
    },
    {
     "name": "stderr",
     "output_type": "stream",
     "text": [
      "\r",
      " 61%|█████████████████████████████████████████████████▍                               | 61/100 [05:50<03:46,  5.80s/it]"
     ]
    },
    {
     "name": "stdout",
     "output_type": "stream",
     "text": [
      "Epoch 61, Total Loss: 0.0022683637216687202, Loss1: 0.0005874105845578015, Loss2: 0.0016809531953185797, Loss3: 4.107196353853038e-12\n"
     ]
    },
    {
     "name": "stderr",
     "output_type": "stream",
     "text": [
      "\r",
      " 62%|██████████████████████████████████████████████████▏                              | 62/100 [05:56<03:44,  5.92s/it]"
     ]
    },
    {
     "name": "stdout",
     "output_type": "stream",
     "text": [
      "Epoch 62, Total Loss: 0.002066350542008877, Loss1: 0.0005028430605307221, Loss2: 0.0015635074814781547, Loss3: 3.4697715620840563e-12\n"
     ]
    },
    {
     "name": "stderr",
     "output_type": "stream",
     "text": [
      "\r",
      " 63%|███████████████████████████████████████████████████                              | 63/100 [06:03<03:48,  6.18s/it]"
     ]
    },
    {
     "name": "stdout",
     "output_type": "stream",
     "text": [
      "Epoch 63, Total Loss: 0.0020364723168313503, Loss1: 0.0005664548953063786, Loss2: 0.0014700174797326326, Loss3: 3.3274318630288624e-12\n"
     ]
    },
    {
     "name": "stderr",
     "output_type": "stream",
     "text": [
      "\r",
      " 64%|███████████████████████████████████████████████████▊                             | 64/100 [06:10<03:52,  6.45s/it]"
     ]
    },
    {
     "name": "stdout",
     "output_type": "stream",
     "text": [
      "Epoch 64, Total Loss: 0.0019892530981451273, Loss1: 0.0005908883176743984, Loss2: 0.0013983647804707289, Loss3: 3.5968628249449797e-12\n"
     ]
    },
    {
     "name": "stderr",
     "output_type": "stream",
     "text": [
      "\r",
      " 65%|████████████████████████████████████████████████████▋                            | 65/100 [06:17<03:54,  6.69s/it]"
     ]
    },
    {
     "name": "stdout",
     "output_type": "stream",
     "text": [
      "Epoch 65, Total Loss: 0.001999566564336419, Loss1: 0.000672859838232398, Loss2: 0.001326706726104021, Loss3: 3.800869775166804e-12\n"
     ]
    },
    {
     "name": "stderr",
     "output_type": "stream",
     "text": [
      "\r",
      " 66%|█████████████████████████████████████████████████████▍                           | 66/100 [06:23<03:41,  6.53s/it]"
     ]
    },
    {
     "name": "stdout",
     "output_type": "stream",
     "text": [
      "Epoch 66, Total Loss: 0.0017494041239842772, Loss1: 0.000512582017108798, Loss2: 0.0012368221068754792, Loss3: 3.553943380904534e-12\n"
     ]
    },
    {
     "name": "stderr",
     "output_type": "stream",
     "text": [
      "\r",
      " 67%|██████████████████████████████████████████████████████▎                          | 67/100 [06:29<03:31,  6.42s/it]"
     ]
    },
    {
     "name": "stdout",
     "output_type": "stream",
     "text": [
      "Epoch 67, Total Loss: 0.0016703993314877152, Loss1: 0.0005387482233345509, Loss2: 0.0011316511081531644, Loss3: 2.9224606675620768e-12\n"
     ]
    },
    {
     "name": "stderr",
     "output_type": "stream",
     "text": [
      "\r",
      " 68%|███████████████████████████████████████████████████████                          | 68/100 [06:36<03:30,  6.57s/it]"
     ]
    },
    {
     "name": "stdout",
     "output_type": "stream",
     "text": [
      "Epoch 68, Total Loss: 0.001613609492778778, Loss1: 0.0005832754541188478, Loss2: 0.0010303340386599302, Loss3: 2.314980672435407e-12\n"
     ]
    },
    {
     "name": "stderr",
     "output_type": "stream",
     "text": [
      "\r",
      " 69%|███████████████████████████████████████████████████████▉                         | 69/100 [06:42<03:19,  6.43s/it]"
     ]
    },
    {
     "name": "stdout",
     "output_type": "stream",
     "text": [
      "Epoch 69, Total Loss: 0.001436720136553049, Loss1: 0.0004884363152086735, Loss2: 0.0009482837631367147, Loss3: 2.0631348192357013e-12\n"
     ]
    },
    {
     "name": "stderr",
     "output_type": "stream",
     "text": [
      "\r",
      " 70%|████████████████████████████████████████████████████████▋                        | 70/100 [06:48<03:08,  6.28s/it]"
     ]
    },
    {
     "name": "stdout",
     "output_type": "stream",
     "text": [
      "Epoch 70, Total Loss: 0.0013666861923411489, Loss1: 0.00048300164053216577, Loss2: 0.0008836845518089831, Loss3: 2.1390562932044332e-12\n"
     ]
    },
    {
     "name": "stderr",
     "output_type": "stream",
     "text": [
      "\r",
      " 71%|█████████████████████████████████████████████████████████▌                       | 71/100 [06:53<02:53,  5.97s/it]"
     ]
    },
    {
     "name": "stdout",
     "output_type": "stream",
     "text": [
      "Epoch 71, Total Loss: 0.0013293089577928185, Loss1: 0.0005072331987321377, Loss2: 0.0008220757590606809, Loss3: 2.247970039281899e-12\n"
     ]
    },
    {
     "name": "stderr",
     "output_type": "stream",
     "text": [
      "\r",
      " 72%|██████████████████████████████████████████████████████████▎                      | 72/100 [06:59<02:40,  5.75s/it]"
     ]
    },
    {
     "name": "stdout",
     "output_type": "stream",
     "text": [
      "Epoch 72, Total Loss: 0.0012591611593961716, Loss1: 0.0005074457731097937, Loss2: 0.000751715328078717, Loss3: 2.1463926556247737e-12\n"
     ]
    },
    {
     "name": "stderr",
     "output_type": "stream",
     "text": [
      "\r",
      " 73%|███████████████████████████████████████████████████████████▏                     | 73/100 [07:04<02:34,  5.72s/it]"
     ]
    },
    {
     "name": "stdout",
     "output_type": "stream",
     "text": [
      "Epoch 73, Total Loss: 0.001249136170372367, Loss1: 0.0005750338896177709, Loss2: 0.000674102280754596, Loss3: 1.857159391549512e-12\n"
     ]
    },
    {
     "name": "stderr",
     "output_type": "stream",
     "text": [
      "\r",
      " 74%|███████████████████████████████████████████████████████████▉                     | 74/100 [07:10<02:25,  5.59s/it]"
     ]
    },
    {
     "name": "stdout",
     "output_type": "stream",
     "text": [
      "Epoch 74, Total Loss: 0.0011260882019996643, Loss1: 0.0005253291456028819, Loss2: 0.0006007590563967824, Loss3: 1.6008294950048407e-12\n"
     ]
    },
    {
     "name": "stderr",
     "output_type": "stream",
     "text": [
      "\r",
      " 75%|████████████████████████████████████████████████████████████▊                    | 75/100 [07:15<02:16,  5.46s/it]"
     ]
    },
    {
     "name": "stdout",
     "output_type": "stream",
     "text": [
      "Epoch 75, Total Loss: 0.0011007697321474552, Loss1: 0.0005597443087026477, Loss2: 0.0005410254816524684, Loss3: 1.5470589219412911e-12\n"
     ]
    },
    {
     "name": "stderr",
     "output_type": "stream",
     "text": [
      "\r",
      " 76%|█████████████████████████████████████████████████████████████▌                   | 76/100 [07:20<02:09,  5.39s/it]"
     ]
    },
    {
     "name": "stdout",
     "output_type": "stream",
     "text": [
      "Epoch 76, Total Loss: 0.0010520081268623471, Loss1: 0.0005585683393292129, Loss2: 0.0004934397875331342, Loss3: 1.6432199568053307e-12\n"
     ]
    },
    {
     "name": "stderr",
     "output_type": "stream",
     "text": [
      "\r",
      " 77%|██████████████████████████████████████████████████████████████▎                  | 77/100 [07:25<02:02,  5.33s/it]"
     ]
    },
    {
     "name": "stdout",
     "output_type": "stream",
     "text": [
      "Epoch 77, Total Loss: 0.0010796537389978766, Loss1: 0.0006309057935141027, Loss2: 0.0004487479745876044, Loss3: 1.6840110035609701e-12\n"
     ]
    },
    {
     "name": "stderr",
     "output_type": "stream",
     "text": [
      "\r",
      " 78%|███████████████████████████████████████████████████████████████▏                 | 78/100 [07:31<01:59,  5.44s/it]"
     ]
    },
    {
     "name": "stdout",
     "output_type": "stream",
     "text": [
      "Epoch 78, Total Loss: 0.0009542881743982434, Loss1: 0.0005539284320548177, Loss2: 0.0004003597714472562, Loss3: 1.5316880793217469e-12\n"
     ]
    },
    {
     "name": "stderr",
     "output_type": "stream",
     "text": [
      "\r",
      " 79%|███████████████████████████████████████████████████████████████▉                 | 79/100 [07:36<01:53,  5.40s/it]"
     ]
    },
    {
     "name": "stdout",
     "output_type": "stream",
     "text": [
      "Epoch 79, Total Loss: 0.0009265568805858493, Loss1: 0.0005759964697062969, Loss2: 0.00035056041087955236, Loss3: 1.2439693372612304e-12\n"
     ]
    },
    {
     "name": "stderr",
     "output_type": "stream",
     "text": [
      "\r",
      " 80%|████████████████████████████████████████████████████████████████▊                | 80/100 [07:41<01:47,  5.36s/it]"
     ]
    },
    {
     "name": "stdout",
     "output_type": "stream",
     "text": [
      "Epoch 80, Total Loss: 0.0008692002156749368, Loss1: 0.00056279799900949, Loss2: 0.0003064021875616163, Loss3: 9.849383678442458e-13\n"
     ]
    },
    {
     "name": "stderr",
     "output_type": "stream",
     "text": [
      "\r",
      " 81%|█████████████████████████████████████████████████████████████████▌               | 81/100 [07:47<01:40,  5.31s/it]"
     ]
    },
    {
     "name": "stdout",
     "output_type": "stream",
     "text": [
      "Epoch 81, Total Loss: 0.0008604960748925805, Loss1: 0.0005891950568184257, Loss2: 0.0002713010471779853, Loss3: 8.464982729529391e-13\n"
     ]
    },
    {
     "name": "stderr",
     "output_type": "stream",
     "text": [
      "\r",
      " 82%|██████████████████████████████████████████████████████████████████▍              | 82/100 [07:53<01:40,  5.56s/it]"
     ]
    },
    {
     "name": "stdout",
     "output_type": "stream",
     "text": [
      "Epoch 82, Total Loss: 0.0008402070961892605, Loss1: 0.0005981347640044987, Loss2: 0.0002420723030809313, Loss3: 7.804163673803821e-13\n"
     ]
    },
    {
     "name": "stderr",
     "output_type": "stream",
     "text": [
      "\r",
      " 83%|███████████████████████████████████████████████████████████████████▏             | 83/100 [08:00<01:43,  6.09s/it]"
     ]
    },
    {
     "name": "stdout",
     "output_type": "stream",
     "text": [
      "Epoch 83, Total Loss: 0.0007792707183398306, Loss1: 0.0005657892324961722, Loss2: 0.00021348150039557368, Loss3: 6.90313637415757e-13\n"
     ]
    },
    {
     "name": "stderr",
     "output_type": "stream",
     "text": [
      "\r",
      " 84%|████████████████████████████████████████████████████████████████████             | 84/100 [08:06<01:37,  6.11s/it]"
     ]
    },
    {
     "name": "stdout",
     "output_type": "stream",
     "text": [
      "Epoch 84, Total Loss: 0.0007168668089434505, Loss1: 0.0005325243691913784, Loss2: 0.00018434245430398732, Loss3: 5.540193954642336e-13\n"
     ]
    },
    {
     "name": "stderr",
     "output_type": "stream",
     "text": [
      "\r",
      " 85%|████████████████████████████████████████████████████████████████████▊            | 85/100 [08:12<01:30,  6.05s/it]"
     ]
    },
    {
     "name": "stdout",
     "output_type": "stream",
     "text": [
      "Epoch 85, Total Loss: 0.0006537264562211931, Loss1: 0.0004956506309099495, Loss2: 0.00015807582531124353, Loss3: 4.3849141982341133e-13\n"
     ]
    },
    {
     "name": "stderr",
     "output_type": "stream",
     "text": [
      "\r",
      " 86%|█████████████████████████████████████████████████████████████████████▋           | 86/100 [08:18<01:22,  5.87s/it]"
     ]
    },
    {
     "name": "stdout",
     "output_type": "stream",
     "text": [
      "Epoch 86, Total Loss: 0.0006385515443980694, Loss1: 0.0005005336133763194, Loss2: 0.00013801793102174997, Loss3: 4.0666493610064247e-13\n"
     ]
    },
    {
     "name": "stderr",
     "output_type": "stream",
     "text": [
      "\r",
      " 87%|██████████████████████████████████████████████████████████████████████▍          | 87/100 [08:23<01:13,  5.66s/it]"
     ]
    },
    {
     "name": "stdout",
     "output_type": "stream",
     "text": [
      "Epoch 87, Total Loss: 0.000658574397675693, Loss1: 0.0005353079177439213, Loss2: 0.00012326649448368698, Loss3: 4.358944303596568e-13\n"
     ]
    },
    {
     "name": "stderr",
     "output_type": "stream",
     "text": [
      "\r",
      " 88%|███████████████████████████████████████████████████████████████████████▎         | 88/100 [08:28<01:07,  5.62s/it]"
     ]
    },
    {
     "name": "stdout",
     "output_type": "stream",
     "text": [
      "Epoch 88, Total Loss: 0.000638658064417541, Loss1: 0.0005288732936605811, Loss2: 0.00010978474892908707, Loss3: 4.425174419606104e-13\n"
     ]
    },
    {
     "name": "stderr",
     "output_type": "stream",
     "text": [
      "\r",
      " 89%|████████████████████████████████████████████████████████████████████████         | 89/100 [08:34<01:02,  5.70s/it]"
     ]
    },
    {
     "name": "stdout",
     "output_type": "stream",
     "text": [
      "Epoch 89, Total Loss: 0.0006247542914934456, Loss1: 0.0005297239986248314, Loss2: 9.503031469648704e-05, Loss3: 3.7669986487770535e-13\n"
     ]
    },
    {
     "name": "stderr",
     "output_type": "stream",
     "text": [
      "\r",
      " 90%|████████████████████████████████████████████████████████████████████████▉        | 90/100 [08:41<00:59,  5.94s/it]"
     ]
    },
    {
     "name": "stdout",
     "output_type": "stream",
     "text": [
      "Epoch 90, Total Loss: 0.000614779710303992, Loss1: 0.0005344340461306274, Loss2: 8.034567144932225e-05, Loss3: 2.7138141451936437e-13\n"
     ]
    },
    {
     "name": "stderr",
     "output_type": "stream",
     "text": [
      "\r",
      " 91%|█████████████████████████████████████████████████████████████████████████▋       | 91/100 [08:47<00:53,  5.91s/it]"
     ]
    },
    {
     "name": "stdout",
     "output_type": "stream",
     "text": [
      "Epoch 91, Total Loss: 0.000774637795984745, Loss1: 0.0007059492054395378, Loss2: 6.868859782116488e-05, Loss3: 1.9542798369159842e-13\n"
     ]
    },
    {
     "name": "stderr",
     "output_type": "stream",
     "text": [
      "\r",
      " 92%|██████████████████████████████████████████████████████████████████████████▌      | 92/100 [08:53<00:47,  5.95s/it]"
     ]
    },
    {
     "name": "stdout",
     "output_type": "stream",
     "text": [
      "Epoch 92, Total Loss: 0.000603550928644836, Loss1: 0.0005426650168374181, Loss2: 6.0885929997311905e-05, Loss3: 1.7565004897628078e-13\n"
     ]
    },
    {
     "name": "stderr",
     "output_type": "stream",
     "text": [
      "\r",
      " 93%|███████████████████████████████████████████████████████████████████████████▎     | 93/100 [08:58<00:41,  5.93s/it]"
     ]
    },
    {
     "name": "stdout",
     "output_type": "stream",
     "text": [
      "Epoch 93, Total Loss: 0.0005911518819630146, Loss1: 0.0005361991352401674, Loss2: 5.4952732170931995e-05, Loss3: 1.8031905721187236e-13\n"
     ]
    },
    {
     "name": "stderr",
     "output_type": "stream",
     "text": [
      "\r",
      " 94%|████████████████████████████████████████████████████████████████████████████▏    | 94/100 [09:05<00:35,  6.00s/it]"
     ]
    },
    {
     "name": "stdout",
     "output_type": "stream",
     "text": [
      "Epoch 94, Total Loss: 0.0006975262658670545, Loss1: 0.0006488054059445858, Loss2: 4.872088538832031e-05, Loss3: 1.6934153732051094e-13\n"
     ]
    },
    {
     "name": "stderr",
     "output_type": "stream",
     "text": [
      "\r",
      " 95%|████████████████████████████████████████████████████████████████████████████▉    | 95/100 [09:10<00:29,  5.95s/it]"
     ]
    },
    {
     "name": "stdout",
     "output_type": "stream",
     "text": [
      "Epoch 95, Total Loss: 0.0006537752924486995, Loss1: 0.0006116283475421369, Loss2: 4.214691944071092e-05, Loss3: 1.411277643142625e-13\n"
     ]
    },
    {
     "name": "stderr",
     "output_type": "stream",
     "text": [
      "\r",
      " 96%|█████████████████████████████████████████████████████████████████████████████▊   | 96/100 [09:16<00:23,  5.79s/it]"
     ]
    },
    {
     "name": "stdout",
     "output_type": "stream",
     "text": [
      "Epoch 96, Total Loss: 0.0006767871673218906, Loss1: 0.0006400513229891658, Loss2: 3.673584797070362e-05, Loss3: 1.2271378303698594e-13\n"
     ]
    },
    {
     "name": "stderr",
     "output_type": "stream",
     "text": [
      "\r",
      " 97%|██████████████████████████████████████████████████████████████████████████████▌  | 97/100 [09:21<00:16,  5.65s/it]"
     ]
    },
    {
     "name": "stdout",
     "output_type": "stream",
     "text": [
      "Epoch 97, Total Loss: 0.0005384961841627955, Loss1: 0.0005052444175817072, Loss2: 3.325174839119427e-05, Loss3: 1.2661783242978036e-13\n"
     ]
    },
    {
     "name": "stderr",
     "output_type": "stream",
     "text": [
      "\r",
      " 98%|███████████████████████████████████████████████████████████████████████████████▍ | 98/100 [09:27<00:11,  5.67s/it]"
     ]
    },
    {
     "name": "stdout",
     "output_type": "stream",
     "text": [
      "Epoch 98, Total Loss: 0.000593466917052865, Loss1: 0.0005627255304716527, Loss2: 3.0741382943233475e-05, Loss3: 1.3363256627565295e-13\n"
     ]
    },
    {
     "name": "stderr",
     "output_type": "stream",
     "text": [
      "\r",
      " 99%|████████████████████████████████████████████████████████████████████████████████▏| 99/100 [09:33<00:05,  5.65s/it]"
     ]
    },
    {
     "name": "stdout",
     "output_type": "stream",
     "text": [
      "Epoch 99, Total Loss: 0.0005378545611165464, Loss1: 0.0005099800182506442, Loss2: 2.78745501418598e-05, Loss3: 1.2016895725025512e-13\n"
     ]
    },
    {
     "name": "stderr",
     "output_type": "stream",
     "text": [
      "100%|████████████████████████████████████████████████████████████████████████████████| 100/100 [09:38<00:00,  5.78s/it]"
     ]
    },
    {
     "name": "stdout",
     "output_type": "stream",
     "text": [
      "Epoch 100, Total Loss: 0.0005744177615270019, Loss1: 0.0005498374230228364, Loss2: 2.458031303831376e-05, Loss3: 8.960209961147991e-14\n",
      "Model: \"model\"\n",
      "__________________________________________________________________________________________________\n",
      "Layer (type)                    Output Shape         Param #     Connected to                     \n",
      "==================================================================================================\n",
      "input_1 (InputLayer)            [(None, 899, 1, 3)]  0                                            \n",
      "__________________________________________________________________________________________________\n",
      "reshape (Reshape)               (None, 899, 3)       0           input_1[0][0]                    \n",
      "__________________________________________________________________________________________________\n",
      "gru (GRU)                       (None, 899, 6)       198         reshape[0][0]                    \n",
      "__________________________________________________________________________________________________\n",
      "reshape_1 (Reshape)             (None, 899, 1, 6)    0           gru[0][0]                        \n",
      "__________________________________________________________________________________________________\n",
      "conv2d (Conv2D)                 (None, 899, 1, 12)   552         input_1[0][0]                    \n",
      "__________________________________________________________________________________________________\n",
      "permute (Permute)               (None, 6, 1, 899)    0           reshape_1[0][0]                  \n",
      "__________________________________________________________________________________________________\n",
      "conv2d_1 (Conv2D)               (None, 899, 1, 6)    654         conv2d[0][0]                     \n",
      "__________________________________________________________________________________________________\n",
      "dense_1 (Dense)                 (None, 6, 1, 899)    809100      permute[0][0]                    \n",
      "__________________________________________________________________________________________________\n",
      "dense (Dense)                   (None, 899, 1, 6)    42          conv2d_1[0][0]                   \n",
      "__________________________________________________________________________________________________\n",
      "multiply_1 (Multiply)           (None, 6, 1, 899)    0           permute[0][0]                    \n",
      "                                                                 dense_1[0][0]                    \n",
      "__________________________________________________________________________________________________\n",
      "multiply (Multiply)             (None, 899, 1, 6)    0           dense[0][0]                      \n",
      "                                                                 conv2d_1[0][0]                   \n",
      "__________________________________________________________________________________________________\n",
      "permute_1 (Permute)             (None, 899, 1, 6)    0           multiply_1[0][0]                 \n",
      "__________________________________________________________________________________________________\n",
      "add (Add)                       (None, 899, 1, 6)    0           multiply[0][0]                   \n",
      "                                                                 permute_1[0][0]                  \n",
      "__________________________________________________________________________________________________\n",
      "flatten (Flatten)               (None, 5394)         0           add[0][0]                        \n",
      "__________________________________________________________________________________________________\n",
      "dense_2 (Dense)                 (None, 2697)         14550315    flatten[0][0]                    \n",
      "__________________________________________________________________________________________________\n",
      "reshape_2 (Reshape)             (None, 899, 1, 3)    0           dense_2[0][0]                    \n",
      "==================================================================================================\n",
      "Total params: 15,360,861\n",
      "Trainable params: 15,360,861\n",
      "Non-trainable params: 0\n",
      "__________________________________________________________________________________________________\n"
     ]
    },
    {
     "name": "stderr",
     "output_type": "stream",
     "text": [
      "\n"
     ]
    }
   ],
   "source": [
    "\n",
    "from tqdm import tqdm\n",
    "input_size = (899, 1, 3)\n",
    "deep_model = deep_model_STACGN(input_size)\n",
    "\n",
    "# 定义优化器\n",
    "optimizer = tf.keras.optimizers.Adam()\n",
    "criterion = tf.keras.losses.MeanSquaredError()\n",
    "\n",
    "# 循环次数\n",
    "num_epochs = 100\n",
    "\n",
    "# 循环训练\n",
    "for epoch in tqdm(range(num_epochs)):\n",
    "    with tf.GradientTape() as tape:\n",
    "        # 获取模型预测值\n",
    "        predictions = deep_model(x1_train, training=True)\n",
    "        \n",
    "        # 计算三个损失函数\n",
    "        loss1 = seismic_loss1(trueseis_2, predictions)\n",
    "        loss11 = tf.cast(loss1,tf.float32)\n",
    "        loss2 = well_loss2(Y1_train, predictions)\n",
    "        loss3 = lowmodel_loss3(Model3, predictions)\n",
    "        \n",
    "        total_loss = loss11+loss2+ loss3\n",
    "\n",
    "    # 计算梯度并更新模型参数\n",
    "    gradients = tape.gradient(total_loss, deep_model.trainable_variables)\n",
    "    optimizer.apply_gradients(zip(gradients, deep_model.trainable_variables))\n",
    "    # 打印每个epoch的损失\n",
    "    print(f\"Epoch {epoch+1}, Total Loss: {total_loss.numpy()}, Loss1: {loss1.numpy()}, Loss2: {loss2.numpy()}, Loss3: {loss3.numpy()}\")\n",
    "\n",
    "# 打印模型摘要\n",
    "deep_model.summary()\n",
    "\n"
   ]
  },
  {
   "cell_type": "code",
   "execution_count": 16,
   "id": "ebe51661",
   "metadata": {},
   "outputs": [],
   "source": [
    "deep_pred = deep_model(S2_, training=True)\n",
    "deep_pred_np = np.array(deep_pred)"
   ]
  },
  {
   "cell_type": "code",
   "execution_count": 17,
   "id": "9fc2d45b",
   "metadata": {},
   "outputs": [
    {
     "data": {
      "text/plain": [
       "<matplotlib.colorbar.Colorbar at 0x1d61ce6b358>"
      ]
     },
     "execution_count": 17,
     "metadata": {},
     "output_type": "execute_result"
    },
    {
     "data": {
      "image/png": "[encoded data removed]",
      "text/plain": [
       "<Figure size 288x576 with 2 Axes>"
      ]
     },
     "metadata": {
      "needs_background": "light"
     },
     "output_type": "display_data"
    }
   ],
   "source": [
    "e=300\n",
    "f=600\n",
    "plt.matshow(deep_pred_np[:,e:f,0,0].T,cmap = 'jet_r')\n",
    "plt.colorbar()"
   ]
  },
  {
   "cell_type": "code",
   "execution_count": 18,
   "id": "7e4fa13f",
   "metadata": {},
   "outputs": [
    {
     "data": {
      "text/plain": [
       "[<matplotlib.lines.Line2D at 0x1d626893a58>]"
      ]
     },
     "execution_count": 18,
     "metadata": {},
     "output_type": "execute_result"
    },
    {
     "data": {
      "image/png": "[encoded data removed]",
      "text/plain": [
       "<Figure size 432x288 with 1 Axes>"
      ]
     },
     "metadata": {
      "needs_background": "light"
     },
     "output_type": "display_data"
    }
   ],
   "source": [
    "plt.plot(Y1_train[1,e:f,0,0],'k')\n",
    "plt.plot(deep_pred_np[25,e:f,0,0],'r')\n",
    "plt.plot(deep_pred_np[125,e:f,0,0],'b')"
   ]
  },
  {
   "cell_type": "code",
   "execution_count": 19,
   "id": "64584909",
   "metadata": {},
   "outputs": [
    {
     "data": {
      "text/plain": [
       "[<matplotlib.lines.Line2D at 0x1d6233aa6a0>]"
      ]
     },
     "execution_count": 19,
     "metadata": {},
     "output_type": "execute_result"
    },
    {
     "data": {
      "image/png": "[encoded data removed]",
      "text/plain": [
       "<Figure size 432x288 with 1 Axes>"
      ]
     },
     "metadata": {
      "needs_background": "light"
     },
     "output_type": "display_data"
    }
   ],
   "source": [
    "plt.plot(Y1_train[0,e:f,0,0],'k')\n",
    "plt.plot(deep_pred_np[75,e:f,0,0],'r')"
   ]
  },
  {
   "cell_type": "markdown",
   "id": "af1523b4",
   "metadata": {},
   "source": [
    "### 对预测值进行反归一化"
   ]
  },
  {
   "cell_type": "code",
   "execution_count": 20,
   "id": "5337d6a9",
   "metadata": {},
   "outputs": [],
   "source": [
    "def reverse(data,Min,Max):\n",
    "    sample = data * (Max- Min) + Min\n",
    "    return sample"
   ]
  },
  {
   "cell_type": "code",
   "execution_count": 21,
   "id": "132ef191",
   "metadata": {},
   "outputs": [
    {
     "data": {
      "text/plain": [
       "(150, 899, 3)"
      ]
     },
     "execution_count": 21,
     "metadata": {},
     "output_type": "execute_result"
    }
   ],
   "source": [
    "deep_pred_vp = reverse(deep_pred_np[:,:,0,0],VPmin125,VPmax125)\n",
    "deep_pred_vs = reverse(deep_pred_np[:,:,0,1],VSmin125,VSmax125)\n",
    "deep_pred_den = reverse(deep_pred_np[:,:,0,2],DNmin125,DNmax125)\n",
    "Re_deep_pred = np.stack((deep_pred_vp,deep_pred_vs,deep_pred_den),axis = 2)\n",
    "Re_deep_pred.shape"
   ]
  },
  {
   "cell_type": "code",
   "execution_count": 22,
   "id": "5df26897",
   "metadata": {},
   "outputs": [
    {
     "data": {
      "text/plain": [
       "<matplotlib.colorbar.Colorbar at 0x1d6231ab588>"
      ]
     },
     "execution_count": 22,
     "metadata": {},
     "output_type": "execute_result"
    },
    {
     "data": {
      "image/png": "[encoded data removed]",
      "text/plain": [
       "<Figure size 288x576 with 2 Axes>"
      ]
     },
     "metadata": {
      "needs_background": "light"
     },
     "output_type": "display_data"
    }
   ],
   "source": [
    "e=300\n",
    "f=600\n",
    "plt.matshow(Re_deep_pred[:,e:f,0].T,cmap = 'jet_r')\n",
    "plt.colorbar()"
   ]
  },
  {
   "cell_type": "code",
   "execution_count": 24,
   "id": "ad3eba4c",
   "metadata": {},
   "outputs": [
    {
     "data": {
      "text/plain": [
       "[<matplotlib.lines.Line2D at 0x1d626855ac8>]"
      ]
     },
     "execution_count": 24,
     "metadata": {},
     "output_type": "execute_result"
    },
    {
     "data": {
      "image/png": "[encoded data removed]",
      "text/plain": [
       "<Figure size 432x288 with 1 Axes>"
      ]
     },
     "metadata": {
      "needs_background": "light"
     },
     "output_type": "display_data"
    }
   ],
   "source": [
    "e=300\n",
    "f=600\n",
    "plt.plot(Model3[300:600,75,0],'k')\n",
    "plt.plot(Re_deep_pred[75,e:f,0],'r')"
   ]
  },
  {
   "cell_type": "code",
   "execution_count": 25,
   "id": "3d9e03f8",
   "metadata": {},
   "outputs": [
    {
     "data": {
      "text/plain": [
       "[<matplotlib.lines.Line2D at 0x1d62333fe10>]"
      ]
     },
     "execution_count": 25,
     "metadata": {},
     "output_type": "execute_result"
    },
    {
     "data": {
      "image/png": "[encoded data removed]",
      "text/plain": [
       "<Figure size 432x288 with 1 Axes>"
      ]
     },
     "metadata": {
      "needs_background": "light"
     },
     "output_type": "display_data"
    }
   ],
   "source": [
    "e=300\n",
    "f=600\n",
    "plt.plot(Model3[300:600,125,0],'k')\n",
    "plt.plot(Re_deep_pred[25,e:f,0],'r')\n",
    "plt.plot(Re_deep_pred[125,e:f,0],'b')"
   ]
  },
  {
   "cell_type": "code",
   "execution_count": null,
   "id": "daad9f4f",
   "metadata": {},
   "outputs": [],
   "source": []
  }
 ],
 "metadata": {
  "kernelspec": {
   "display_name": "Python 3",
   "language": "python",
   "name": "python3"
  },
  "language_info": {
   "codemirror_mode": {
    "name": "ipython",
    "version": 3
   },
   "file_extension": ".py",
   "mimetype": "text/x-python",
   "name": "python",
   "nbconvert_exporter": "python",
   "pygments_lexer": "ipython3",
   "version": "3.6.13"
  }
 },
 "nbformat": 4,
 "nbformat_minor": 5
}
